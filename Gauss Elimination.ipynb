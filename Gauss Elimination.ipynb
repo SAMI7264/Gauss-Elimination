{
 "cells": [
  {
   "cell_type": "code",
   "execution_count": 4,
   "metadata": {},
   "outputs": [
    {
     "name": "stdout",
     "output_type": "stream",
     "text": [
      "Enter number of unknown2\n",
      "Enter A 0 0\n",
      "7\n",
      "Enter A 0 1\n",
      "7\n",
      "Enter A 0 2\n",
      "9\n",
      "Enter A 1 0\n",
      "3\n",
      "Enter A 1 1\n",
      "3\n",
      "Enter A 1 2\n",
      "6\n",
      "[[7. 7. 9.]\n",
      " [3. 3. 6.]]\n",
      "9\n",
      "[[7.         7.         9.        ]\n",
      " [0.         0.         2.14285714]]\n",
      "[1.28571429        inf]\n"
     ]
    },
    {
     "name": "stderr",
     "output_type": "stream",
     "text": [
      "C:\\Users\\Amna Siddiqui\\Anaconda3\\lib\\site-packages\\ipykernel_launcher.py:22: RuntimeWarning: divide by zero encountered in double_scalars\n"
     ]
    }
   ],
   "source": [
    "import numpy as np\n",
    "n=int(input(\"Enter number of unknown\"))\n",
    "col=[]\n",
    "for i in range(0,n):\n",
    "    row = []\n",
    "    for j in range(0,n+1):\n",
    "        print(\"Enter A\",i,j)\n",
    "        temp=float(input())\n",
    "        row.append(temp)\n",
    "    col.append(row)\n",
    "A=np.matrix(col)\n",
    "print(A)\n",
    "\n",
    "input()\n",
    "for i in range(0,n):\n",
    "    for j in range(i+1,n):\n",
    "        factor=A[j,i]/A[i,i]\n",
    "        for k in range(0,n+1):\n",
    "                        A[j,k]=A[j,k]-factor*A[i,k]\n",
    "print(A)\n",
    "x=np.zeros(n)\n",
    "x[n-1]=(A[n-1,n]/A[n-1,n-1])\n",
    "for i in range(n-2,-1,-1):\n",
    "    sum=0\n",
    "    for j in range(i+1,n):\n",
    "        sum+=A[i,j]*x[i]\n",
    "        x[i]=(A[i,n]-sum)/A[i,i]\n",
    "print(x)\n",
    "    "
   ]
  },
  {
   "cell_type": "markdown",
   "metadata": {},
   "source": [
    "#### "
   ]
  },
  {
   "cell_type": "code",
   "execution_count": null,
   "metadata": {},
   "outputs": [],
   "source": []
  }
 ],
 "metadata": {
  "kernelspec": {
   "display_name": "Python 3",
   "language": "python",
   "name": "python3"
  },
  "language_info": {
   "codemirror_mode": {
    "name": "ipython",
    "version": 3
   },
   "file_extension": ".py",
   "mimetype": "text/x-python",
   "name": "python",
   "nbconvert_exporter": "python",
   "pygments_lexer": "ipython3",
   "version": "3.7.1"
  }
 },
 "nbformat": 4,
 "nbformat_minor": 2
}
